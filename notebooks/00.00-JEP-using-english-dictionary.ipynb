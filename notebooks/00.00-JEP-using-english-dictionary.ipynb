{
 "cells": [
  {
   "cell_type": "markdown",
   "id": "83e9a149",
   "metadata": {},
   "source": [
    "# Using `english_dictionary`\n",
    "\n",
    "```bash\n",
    "pip install english_dictionary\n",
    "```"
   ]
  },
  {
   "cell_type": "code",
   "execution_count": 1,
   "id": "06922876",
   "metadata": {},
   "outputs": [],
   "source": [
    "from english_dictionary.scripts.read_pickle import get_dict\n",
    "english_dict = get_dict()"
   ]
  },
  {
   "cell_type": "code",
   "execution_count": 2,
   "id": "3403f971",
   "metadata": {},
   "outputs": [
    {
     "data": {
      "text/plain": [
       "': a percussion instrument consisting of a series of wooden bars graduated in length to produce the musical scale, supported on belts of straw or felt, and sounded by striking with two small wooden hammers'"
      ]
     },
     "execution_count": 2,
     "metadata": {},
     "output_type": "execute_result"
    }
   ],
   "source": [
    "english_dict[\"xylophone\"]  # english_dict is a Python dictionary of English"
   ]
  },
  {
   "cell_type": "code",
   "execution_count": null,
   "id": "bd649914",
   "metadata": {},
   "outputs": [],
   "source": []
  }
 ],
 "metadata": {
  "kernelspec": {
   "display_name": "wordle",
   "language": "python",
   "name": "wordle"
  },
  "language_info": {
   "codemirror_mode": {
    "name": "ipython",
    "version": 3
   },
   "file_extension": ".py",
   "mimetype": "text/x-python",
   "name": "python",
   "nbconvert_exporter": "python",
   "pygments_lexer": "ipython3",
   "version": "3.9.7"
  }
 },
 "nbformat": 4,
 "nbformat_minor": 5
}
